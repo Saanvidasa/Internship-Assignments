{
 "cells": [
  {
   "cell_type": "code",
   "execution_count": 1,
   "id": "621bece2",
   "metadata": {},
   "outputs": [],
   "source": [
    "import numpy as np\n",
    "import matplotlib.pyplot as plt\n",
    "import tensorflow as tf\n",
    "from tensorflow.keras import layers\n",
    "from tensorflow.keras.datasets import fashion_mnist\n",
    "from tensorflow.keras.models import Model\n",
    "from tensorflow.keras.layers import Dense, Input, Add, Activation, Flatten\n",
    "from tensorflow.keras.utils import to_categorical\n",
    "from tensorflow.keras import regularizers\n",
    "from tensorflow.keras.optimizers import Adam\n",
    "from tensorflow.keras.callbacks import ReduceLROnPlateau, EarlyStopping\n",
    "\n",
    "\n",
    "import seaborn as sns\n",
    "     \n"
   ]
  },
  {
   "cell_type": "code",
   "execution_count": 2,
   "id": "210ed3c6",
   "metadata": {},
   "outputs": [],
   "source": [
    "(x_train, y_train), (x_test, y_test) = tf.keras.datasets.fashion_mnist.load_data()\n",
    "x_train_flat = x_train.reshape(-1, 784).astype('float32') / 255.0\n",
    "x_test_flat = x_test.reshape(-1, 784).astype('float32') / 255.0\n",
    "y_train = to_categorical(y_train, 10)\n",
    "y_test = to_categorical(y_test, 10)"
   ]
  },
  {
   "cell_type": "code",
   "execution_count": 3,
   "id": "26945bca",
   "metadata": {},
   "outputs": [],
   "source": [
    "def create_resnet_dnn():\n",
    "    inputs = layers.Input(shape=(784,))\n",
    "\n",
    "    x = layers.BatchNormalization()(inputs)\n",
    "    # Initial dense layer\n",
    "    x = layers.Dense(784, activation='relu')(inputs)\n",
    "\n",
    "    # Residual block 1\n",
    "    x1 = layers.Dense(784, activation='relu', kernel_regularizer=regularizers.l2(1e-5))(x)\n",
    "    x1 = layers.Dropout(0.6)(x1)\n",
    "    x2 = layers.Dense(784, activation='relu', kernel_regularizer=regularizers.l2(1e-5))(x1)\n",
    "    res1 = layers.Add()([x, x2])  # Skip connection\n",
    "    res1 = layers.Activation('relu')(res1)\n",
    "    res1 = layers.Dropout(0.5)(res1)\n",
    "\n",
    "    # Residual block 2\n",
    "    x3 =layers.Dense(1024, activation='relu', kernel_regularizer=regularizers.l2(1e-5))(res1)\n",
    "    x3 = layers.Dropout(0.4)(x3)\n",
    "    x4 = layers.Dense(1024, activation='relu', kernel_regularizer=regularizers.l2(1e-5))(x3)\n",
    "    # Need to match dimensions for the skip connection\n",
    "    res1_down = layers.Dense(1024, activation='relu')(res1)  # Projection to match dimensions\n",
    "    res2 = layers.Add()([res1_down, x4])\n",
    "    res2 = layers.Activation('relu')(res2)\n",
    "    res2 = layers.Dropout(0.4)(res2)\n",
    "\n",
    "\n",
    "    # Residual block 3\n",
    "    x5 = layers.Dense(512, activation='relu', kernel_regularizer=regularizers.l2(1e-5))(res2)\n",
    "    x5 = layers.Dropout(0.3)(x5)\n",
    "    x6 = layers.Dense(512, activation='relu', kernel_regularizer=regularizers.l2(1e-5))(x5)\n",
    "    res2_down = layers.Dense(512, activation='relu')(res2)\n",
    "    res3 = layers.Add()([res2_down, x6])\n",
    "    res3 = layers.Activation('relu')(res3)\n",
    "    res3 = layers.Dropout(0.3)(res3)\n",
    "\n",
    "\n",
    "    # Final layers\n",
    "    x_final = layers.Dense(256, activation='relu')(res3)\n",
    "    x_final = layers.Dense(128, activation='relu')(x_final)\n",
    "    x_final = layers.Dense(64, activation='relu')(x_final)\n",
    "    outputs = layers.Dense(10, activation='softmax')(x_final)\n",
    "\n",
    "    return Model(inputs, outputs)\n",
    "     \n"
   ]
  },
  {
   "cell_type": "code",
   "execution_count": 4,
   "id": "e4dd23e5",
   "metadata": {},
   "outputs": [],
   "source": [
    "resnet = create_resnet_dnn()\n",
    "\n",
    "resnet.compile(optimizer=Adam(learning_rate=0.001),\n",
    "              loss='categorical_crossentropy',\n",
    "              metrics=['accuracy'])"
   ]
  },
  {
   "cell_type": "code",
   "execution_count": 5,
   "id": "a8272b80",
   "metadata": {},
   "outputs": [
    {
     "name": "stdout",
     "output_type": "stream",
     "text": [
      "Epoch 1/20\n",
      "\u001b[1m329/329\u001b[0m \u001b[32m━━━━━━━━━━━━━━━━━━━━\u001b[0m\u001b[37m\u001b[0m \u001b[1m14s\u001b[0m 39ms/step - accuracy: 0.5702 - loss: 1.1627 - val_accuracy: 0.8220 - val_loss: 0.5417 - learning_rate: 0.0010\n",
      "Epoch 2/20\n",
      "\u001b[1m329/329\u001b[0m \u001b[32m━━━━━━━━━━━━━━━━━━━━\u001b[0m\u001b[37m\u001b[0m \u001b[1m12s\u001b[0m 38ms/step - accuracy: 0.8350 - loss: 0.5220 - val_accuracy: 0.8499 - val_loss: 0.4751 - learning_rate: 0.0010\n",
      "Epoch 3/20\n",
      "\u001b[1m329/329\u001b[0m \u001b[32m━━━━━━━━━━━━━━━━━━━━\u001b[0m\u001b[37m\u001b[0m \u001b[1m13s\u001b[0m 38ms/step - accuracy: 0.8535 - loss: 0.4672 - val_accuracy: 0.8610 - val_loss: 0.4375 - learning_rate: 0.0010\n",
      "Epoch 4/20\n",
      "\u001b[1m329/329\u001b[0m \u001b[32m━━━━━━━━━━━━━━━━━━━━\u001b[0m\u001b[37m\u001b[0m \u001b[1m13s\u001b[0m 39ms/step - accuracy: 0.8673 - loss: 0.4264 - val_accuracy: 0.8587 - val_loss: 0.4395 - learning_rate: 0.0010\n",
      "Epoch 5/20\n",
      "\u001b[1m329/329\u001b[0m \u001b[32m━━━━━━━━━━━━━━━━━━━━\u001b[0m\u001b[37m\u001b[0m \u001b[1m13s\u001b[0m 38ms/step - accuracy: 0.8686 - loss: 0.4175 - val_accuracy: 0.8696 - val_loss: 0.4087 - learning_rate: 0.0010\n",
      "Epoch 6/20\n",
      "\u001b[1m329/329\u001b[0m \u001b[32m━━━━━━━━━━━━━━━━━━━━\u001b[0m\u001b[37m\u001b[0m \u001b[1m13s\u001b[0m 38ms/step - accuracy: 0.8766 - loss: 0.3921 - val_accuracy: 0.8700 - val_loss: 0.4042 - learning_rate: 0.0010\n",
      "Epoch 7/20\n",
      "\u001b[1m329/329\u001b[0m \u001b[32m━━━━━━━━━━━━━━━━━━━━\u001b[0m\u001b[37m\u001b[0m \u001b[1m13s\u001b[0m 39ms/step - accuracy: 0.8824 - loss: 0.3651 - val_accuracy: 0.8775 - val_loss: 0.3861 - learning_rate: 0.0010\n",
      "Epoch 8/20\n",
      "\u001b[1m329/329\u001b[0m \u001b[32m━━━━━━━━━━━━━━━━━━━━\u001b[0m\u001b[37m\u001b[0m \u001b[1m13s\u001b[0m 39ms/step - accuracy: 0.8855 - loss: 0.3585 - val_accuracy: 0.8794 - val_loss: 0.3781 - learning_rate: 0.0010\n",
      "Epoch 9/20\n",
      "\u001b[1m329/329\u001b[0m \u001b[32m━━━━━━━━━━━━━━━━━━━━\u001b[0m\u001b[37m\u001b[0m \u001b[1m13s\u001b[0m 40ms/step - accuracy: 0.8884 - loss: 0.3497 - val_accuracy: 0.8779 - val_loss: 0.3847 - learning_rate: 0.0010\n",
      "Epoch 10/20\n",
      "\u001b[1m329/329\u001b[0m \u001b[32m━━━━━━━━━━━━━━━━━━━━\u001b[0m\u001b[37m\u001b[0m \u001b[1m13s\u001b[0m 40ms/step - accuracy: 0.8878 - loss: 0.3482 - val_accuracy: 0.8823 - val_loss: 0.3779 - learning_rate: 0.0010\n",
      "Epoch 11/20\n",
      "\u001b[1m329/329\u001b[0m \u001b[32m━━━━━━━━━━━━━━━━━━━━\u001b[0m\u001b[37m\u001b[0m \u001b[1m13s\u001b[0m 39ms/step - accuracy: 0.8940 - loss: 0.3318 - val_accuracy: 0.8771 - val_loss: 0.3924 - learning_rate: 0.0010\n",
      "Epoch 12/20\n",
      "\u001b[1m329/329\u001b[0m \u001b[32m━━━━━━━━━━━━━━━━━━━━\u001b[0m\u001b[37m\u001b[0m \u001b[1m12s\u001b[0m 38ms/step - accuracy: 0.8978 - loss: 0.3181 - val_accuracy: 0.8785 - val_loss: 0.3795 - learning_rate: 0.0010\n",
      "Epoch 13/20\n",
      "\u001b[1m329/329\u001b[0m \u001b[32m━━━━━━━━━━━━━━━━━━━━\u001b[0m\u001b[37m\u001b[0m \u001b[1m13s\u001b[0m 39ms/step - accuracy: 0.9020 - loss: 0.3032 - val_accuracy: 0.8786 - val_loss: 0.3749 - learning_rate: 0.0010\n",
      "Epoch 14/20\n",
      "\u001b[1m329/329\u001b[0m \u001b[32m━━━━━━━━━━━━━━━━━━━━\u001b[0m\u001b[37m\u001b[0m \u001b[1m13s\u001b[0m 39ms/step - accuracy: 0.8998 - loss: 0.3069 - val_accuracy: 0.8817 - val_loss: 0.3723 - learning_rate: 0.0010\n",
      "Epoch 15/20\n",
      "\u001b[1m329/329\u001b[0m \u001b[32m━━━━━━━━━━━━━━━━━━━━\u001b[0m\u001b[37m\u001b[0m \u001b[1m13s\u001b[0m 38ms/step - accuracy: 0.8983 - loss: 0.3112 - val_accuracy: 0.8814 - val_loss: 0.3736 - learning_rate: 0.0010\n",
      "Epoch 16/20\n",
      "\u001b[1m329/329\u001b[0m \u001b[32m━━━━━━━━━━━━━━━━━━━━\u001b[0m\u001b[37m\u001b[0m \u001b[1m13s\u001b[0m 39ms/step - accuracy: 0.9036 - loss: 0.2966 - val_accuracy: 0.8848 - val_loss: 0.3722 - learning_rate: 0.0010\n",
      "Epoch 17/20\n",
      "\u001b[1m329/329\u001b[0m \u001b[32m━━━━━━━━━━━━━━━━━━━━\u001b[0m\u001b[37m\u001b[0m \u001b[1m13s\u001b[0m 39ms/step - accuracy: 0.9084 - loss: 0.2783 - val_accuracy: 0.8799 - val_loss: 0.3976 - learning_rate: 0.0010\n",
      "Epoch 18/20\n",
      "\u001b[1m329/329\u001b[0m \u001b[32m━━━━━━━━━━━━━━━━━━━━\u001b[0m\u001b[37m\u001b[0m \u001b[1m13s\u001b[0m 39ms/step - accuracy: 0.9085 - loss: 0.2784 - val_accuracy: 0.8844 - val_loss: 0.4097 - learning_rate: 0.0010\n",
      "Epoch 19/20\n",
      "\u001b[1m329/329\u001b[0m \u001b[32m━━━━━━━━━━━━━━━━━━━━\u001b[0m\u001b[37m\u001b[0m \u001b[1m13s\u001b[0m 39ms/step - accuracy: 0.9141 - loss: 0.2697 - val_accuracy: 0.8866 - val_loss: 0.3719 - learning_rate: 0.0010\n",
      "Epoch 20/20\n",
      "\u001b[1m329/329\u001b[0m \u001b[32m━━━━━━━━━━━━━━━━━━━━\u001b[0m\u001b[37m\u001b[0m \u001b[1m13s\u001b[0m 40ms/step - accuracy: 0.9129 - loss: 0.2634 - val_accuracy: 0.8897 - val_loss: 0.3686 - learning_rate: 0.0010\n"
     ]
    }
   ],
   "source": [
    "\n",
    "lr_schedule = ReduceLROnPlateau(monitor='val_accuracy', factor=0.5, patience=10, min_lr=1e-6)\n",
    "early_stop = EarlyStopping(monitor='val_accuracy', patience=12, restore_best_weights=True)\n",
    "\n",
    "\n",
    "callbacks=[early_stop, lr_schedule]\n",
    "history_resnet = resnet.fit(x_train_flat,\n",
    "                    y_train,\n",
    "                    validation_split=0.3,\n",
    "                    epochs=20,\n",
    "                    batch_size=128,\n",
    "                    callbacks=callbacks,\n",
    "                    verbose=1\n",
    "                    )"
   ]
  },
  {
   "cell_type": "code",
   "execution_count": 6,
   "id": "24415122",
   "metadata": {},
   "outputs": [
    {
     "name": "stdout",
     "output_type": "stream",
     "text": [
      "ResNet-style DNN Test Accuracy: 0.8813\n"
     ]
    }
   ],
   "source": [
    "resnet_test_loss, resnet_test_acc = resnet.evaluate(x_test_flat, y_test, verbose=0)\n",
    "print(f\"ResNet-style DNN Test Accuracy: {resnet_test_acc:.4f}\")\n",
    "     "
   ]
  }
 ],
 "metadata": {
  "kernelspec": {
   "display_name": "Python 3",
   "language": "python",
   "name": "python3"
  },
  "language_info": {
   "codemirror_mode": {
    "name": "ipython",
    "version": 3
   },
   "file_extension": ".py",
   "mimetype": "text/x-python",
   "name": "python",
   "nbconvert_exporter": "python",
   "pygments_lexer": "ipython3",
   "version": "3.11.9"
  }
 },
 "nbformat": 4,
 "nbformat_minor": 5
}
